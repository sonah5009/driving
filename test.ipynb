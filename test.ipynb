{
 "cells": [
  {
   "cell_type": "code",
   "execution_count": 1,
   "id": "89c100c2-8b44-4da2-a37d-b9aa85e7d3f8",
   "metadata": {},
   "outputs": [],
   "source": [
    "import cv2\n",
    "import time\n",
    "import keyboard\n",
    "from threading import Lock\n",
    "\n",
    "from image_processor import ImageProcessor\n",
    "from motor_controller import MotorController\n",
    "from config import classes_path, anchors "
   ]
  },
  {
   "cell_type": "code",
   "execution_count": 2,
   "id": "26521045-23fa-4c95-bbfd-e0d2562080e4",
   "metadata": {},
   "outputs": [],
   "source": [
    "class DrivingSystemController:\n",
    "    def __init__(self, dpu_overlay, dpu, motors, speed, steering_speed):\n",
    "        \"\"\"\n",
    "        자율주행 차량 시스템 초기화\n",
    "        Args:\n",
    "            dpu_overlay: DPU 오버레이 객체\n",
    "        \"\"\"\n",
    "        self.image_processor = ImageProcessor(dpu, classes_path, anchors)\n",
    "        self.motor_controller = MotorController(motors)\n",
    "        self.overlay = dpu_overlay\n",
    "        \n",
    "        # 제어 상태 변수\n",
    "        self.is_running = False\n",
    "        self.control_lock = Lock()\n",
    "        self.control_mode = 1  # 1: Autonomous, 2: Manual\n",
    "        \n",
    "        self.speed = speed\n",
    "        self.steering_speed = steering_speed\n",
    "        \n",
    "        # 제어 알고리즘 선택\n",
    "        self.use_kanayama = True  # True: Kanayama 제어기, False: 기존 방식\n",
    "        \n",
    "        # 시스템 초기화\n",
    "        print(\"시스템 초기화 BEFORE\")\n",
    "        self.init_system()\n",
    "        print(\"시스템 초기화 AFTER\")"
   ]
  },
  {
   "cell_type": "code",
   "execution_count": 3,
   "id": "489237c7-c2f1-484b-a5fd-54dcbdb931ec",
   "metadata": {},
   "outputs": [],
   "source": [
    "    def init_system(self):\n",
    "        \"\"\"시스템 초기화\"\"\"\n",
    "        self.motor_controller.init_motors()\n",
    "\n",
    "    def start_driving(self):\n",
    "        \"\"\"주행 시작\"\"\"\n",
    "        with self.control_lock:\n",
    "            self.is_running = True\n",
    "            print(\"주행을 시작합니다.\")\n",
    "            if self.control_mode == 1:\n",
    "                # 자율주행 모드 초기 설정\n",
    "                self.motor_controller.left_speed = self.speed\n",
    "                self.motor_controller.right_speed = self.speed\n",
    "                self.motor_controller.steering_speed = self.steering_speed\n",
    "            else:\n",
    "                # 수동 주행 모드 초기 설정\n",
    "                self.motor_controller.manual_speed = 0\n",
    "                self.motor_controller.manual_steering_angle = 0"
   ]
  },
  {
   "cell_type": "code",
   "execution_count": 4,
   "id": "9c84d1e7-afb3-4efa-a5c4-ea34a36bdbcc",
   "metadata": {},
   "outputs": [],
   "source": [
    "    def stop_driving(self):\n",
    "        \"\"\"주행 정지\"\"\"\n",
    "        with self.control_lock:\n",
    "            self.is_running = False\n",
    "            print(\"주행을 정지합니다.\")\n",
    "            self.motor_controller.reset_motor_values()\n"
   ]
  },
  {
   "cell_type": "code",
   "execution_count": 5,
   "id": "283fd954-393f-4fa2-bf7c-c10688db47a6",
   "metadata": {},
   "outputs": [],
   "source": [
    "    def switch_mode(self, new_mode):\n",
    "        \"\"\"\n",
    "        주행 모드 전환\n",
    "        Args:\n",
    "            new_mode: 1(자율주행) 또는 2(수동주행)\n",
    "        \"\"\"\n",
    "        if self.control_mode != new_mode:\n",
    "            self.control_mode = new_mode\n",
    "            self.is_running = False\n",
    "            self.motor_controller.reset_motor_values()\n",
    "            mode_str = \"자율주행\" if new_mode == 1 else \"수동주행\"\n",
    "            print(f\"{mode_str} 모드로 전환되었습니다.\")\n",
    "            print(\"Space 키를 눌러 주행을 시작하세요.\")"
   ]
  },
  {
   "cell_type": "code",
   "execution_count": 6,
   "id": "3d572c31-ed0a-4f22-8e0a-1d3a90265c96",
   "metadata": {},
   "outputs": [],
   "source": [
    "    def toggle_control_algorithm(self):\n",
    "        \"\"\"제어 알고리즘 전환 (Kanayama <-> 기존 방식)\"\"\"\n",
    "        self.use_kanayama = not self.use_kanayama\n",
    "        algorithm = \"Kanayama 제어기\" if self.use_kanayama else \"기존 방식\"\n",
    "        print(f\"제어 알고리즘을 {algorithm}로 변경했습니다.\")"
   ]
  },
  {
   "cell_type": "code",
   "execution_count": 7,
   "id": "87dbd1f3-2024-4deb-83e8-101d9e900b3e",
   "metadata": {},
   "outputs": [],
   "source": [
    "    def process_and_control(self, frame):\n",
    "        \"\"\"\n",
    "        프레임 처리 및 차량 제어\n",
    "        Args:\n",
    "            frame: 처리할 비디오 프레임\n",
    "        Returns:\n",
    "            처리된 이미지\n",
    "        \"\"\"\n",
    "        if self.control_mode == 1:  # Autonomous mode\n",
    "            steering_angle, image = self.image_processor.process_frame(frame, use_kanayama=self.use_kanayama)\n",
    "            if self.is_running:\n",
    "                self.motor_controller.control_motors(steering_angle, control_mode=1)\n",
    "            return image\n",
    "        else:  # Manual mode\n",
    "            if self.is_running:\n",
    "                self.motor_controller.handle_manual_control()\n",
    "            return frame"
   ]
  },
  {
   "cell_type": "code",
   "execution_count": 8,
   "id": "fbcdd0e9-b864-4b71-a89f-802175b124a5",
   "metadata": {},
   "outputs": [],
   "source": [
    "    def wait_for_mode_selection(self):\n",
    "        \"\"\"시작 시 모드 선택 대기\"\"\"\n",
    "        print(\"\\n주행 모드를 선택하세요:\")\n",
    "        print(\"1: 자율주행 모드\")\n",
    "        print(\"2: 수동주행 모드\")\n",
    "        \n",
    "        while True:\n",
    "            if keyboard.is_pressed('1'):\n",
    "                self.switch_mode(1)\n",
    "                break\n",
    "            elif keyboard.is_pressed('2'):\n",
    "                self.switch_mode(2)\n",
    "                break\n",
    "            time.sleep(0.1)"
   ]
  },
  {
   "cell_type": "code",
   "execution_count": 9,
   "id": "3ec822fe-123a-469a-97de-078c2f944e24",
   "metadata": {},
   "outputs": [],
   "source": [
    "    def run(self, video_path=None, camera_index=0):\n",
    "        \"\"\"\n",
    "        메인 실행 함수\n",
    "        Args:\n",
    "            video_path: 비디오 파일 경로 (선택)\n",
    "            camera_index: 카메라 인덱스 (기본값 0)\n",
    "        \"\"\"\n",
    "        # 카메라 또는 비디오 초기화\n",
    "        print()\n",
    "        print(\"# 카메라 또는 비디오 초기화 BEFORE\")\n",
    "        \n",
    "        if video_path:\n",
    "            cap = cv2.VideoCapture(video_path)\n",
    "        else:\n",
    "            cap = cv2.VideoCapture(camera_index)\n",
    "            cap.set(cv2.CAP_PROP_FRAME_WIDTH, 640)\n",
    "            cap.set(cv2.CAP_PROP_FRAME_HEIGHT, 480)\n",
    "\n",
    "        if not cap.isOpened():\n",
    "            print(\"카메라를 열 수 없습니다.\")\n",
    "            return\n",
    "        \n",
    "        print(\"# 카메라 또는 비디오 초기화 AFTER\")\n",
    "        \n",
    "\n",
    "        # 시작 시 모드 선택\n",
    "        self.wait_for_mode_selection()\n",
    "\n",
    "        # 제어 안내 출력\n",
    "        print(\"\\n키보드 제어 안내:\")\n",
    "        print(\"Space: 주행 시작/정지\")\n",
    "        print(\"1/2: 자율주행/수동주행 모드 전환\")\n",
    "        print(\"K: 제어 알고리즘 전환 (Kanayama <-> 기존 방식)\")\n",
    "        if self.control_mode == 2:\n",
    "            print(\"\\n수동 주행 제어:\")\n",
    "            print(\"W/S: 전진/후진\")\n",
    "            print(\"A/D: 좌회전/우회전\")\n",
    "            print(\"R: 긴급 정지\")\n",
    "        print(\"Q: 프로그램 종료\\n\")"
   ]
  },
  {
   "cell_type": "code",
   "execution_count": 13,
   "id": "86a56603-c8d1-4118-a42c-5687a88ac402",
   "metadata": {},
   "outputs": [
    {
     "name": "stderr",
     "output_type": "stream",
     "text": [
      "[ WARN:0] global ./modules/videoio/src/cap_gstreamer.cpp (616) isPipelinePlaying OpenCV | GStreamer warning: GStreamer: pipeline have not been created\n",
      "[ WARN:0] global ./modules/videoio/src/cap_v4l.cpp (890) open VIDEOIO(V4L2:/dev/video0): can't open camera by index\n"
     ]
    },
    {
     "name": "stdout",
     "output_type": "stream",
     "text": [
      "프레임을 읽을 수 없습니다.\n"
     ]
    },
    {
     "ename": "NameError",
     "evalue": "name 'self' is not defined",
     "output_type": "error",
     "traceback": [
      "\u001b[0;31m---------------------------------------------------------------------------\u001b[0m",
      "\u001b[0;31mNameError\u001b[0m                                 Traceback (most recent call last)",
      "Input \u001b[0;32mIn [13]\u001b[0m, in \u001b[0;36m<cell line: 1>\u001b[0;34m()\u001b[0m\n\u001b[1;32m     57\u001b[0m cap\u001b[38;5;241m.\u001b[39mrelease()\n\u001b[1;32m     58\u001b[0m cv2\u001b[38;5;241m.\u001b[39mdestroyAllWindows()\n\u001b[0;32m---> 59\u001b[0m \u001b[38;5;28;43mself\u001b[39;49m\u001b[38;5;241m.\u001b[39mstop_driving()\n",
      "\u001b[0;31mNameError\u001b[0m: name 'self' is not defined"
     ]
    }
   ],
   "source": [
    "        try:\n",
    "            cap = cv2.VideoCapture(0)  # ← 이 줄이 반드시 있어야 함\n",
    "            while True:\n",
    "                # 키보드 입력 처리\n",
    "                if keyboard.is_pressed('space'):\n",
    "                    time.sleep(0.3)  # 디바운싱\n",
    "                    if self.is_running:\n",
    "                        self.stop_driving()\n",
    "                    else:\n",
    "                        self.start_driving()\n",
    "                \n",
    "                elif keyboard.is_pressed('1') or keyboard.is_pressed('2'):\n",
    "                    prev_mode = self.control_mode\n",
    "                    new_mode = 1 if keyboard.is_pressed('1') else 2\n",
    "                    if prev_mode != new_mode:\n",
    "                        self.switch_mode(new_mode)\n",
    "                        if new_mode == 2:\n",
    "                            print(\"\\n수동 주행 제어:\")\n",
    "                            print(\"W/S: 전진/후진\")\n",
    "                            print(\"A/D: 좌회전/우회전\")\n",
    "                            print(\"R: 긴급 정지\")\n",
    "                    time.sleep(0.3)  # 디바운싱\n",
    "                \n",
    "                elif keyboard.is_pressed('k'):\n",
    "                    time.sleep(0.3)  # 디바운싱\n",
    "                    self.toggle_control_algorithm()\n",
    "                \n",
    "                if keyboard.is_pressed('q'):\n",
    "                    print(\"\\n프로그램을 종료합니다.\")\n",
    "                    break\n",
    "\n",
    "                # 프레임 처리\n",
    "                ret, frame = cap.read()\n",
    "                if not ret:\n",
    "                    print(\"프레임을 읽을 수 없습니다.\")\n",
    "                    break\n",
    "\n",
    "                # 이미지 처리 및 차량 제어\n",
    "                processed_image = self.process_and_control(frame)\n",
    "                \n",
    "                # 상태 표시\n",
    "                mode_text = \"모드: \" + (\"자율주행\" if self.control_mode == 1 else \"수동주행\")\n",
    "                status_text = \"상태: \" + (\"주행중\" if self.is_running else \"정지\")\n",
    "                algorithm_text = \"알고리즘: \" + (\"Kanayama\" if self.use_kanayama else \"기존 방식\")\n",
    "                \n",
    "                # 화면에 상태 정보 표시\n",
    "                cv2.putText(processed_image, mode_text, (10, 30), cv2.FONT_HERSHEY_SIMPLEX, 0.7, (0, 255, 0), 2)\n",
    "                cv2.putText(processed_image, status_text, (10, 60), cv2.FONT_HERSHEY_SIMPLEX, 0.7, (0, 255, 0), 2)\n",
    "                cv2.putText(processed_image, algorithm_text, (10, 90), cv2.FONT_HERSHEY_SIMPLEX, 0.7, (0, 255, 0), 2)\n",
    "                \n",
    "                cv2.imshow(\"Processed Image\", processed_image)\n",
    "\n",
    "        except KeyboardInterrupt:\n",
    "            print(\"\\n사용자에 의해 중지되었습니다.\")\n",
    "        finally:\n",
    "            # 리소스 정리\n",
    "            cap.release()\n",
    "            cv2.destroyAllWindows()\n",
    "            self.stop_driving()"
   ]
  },
  {
   "cell_type": "code",
   "execution_count": 14,
   "id": "3c85606b-5a10-4a1e-a415-660a05e0f826",
   "metadata": {},
   "outputs": [
    {
     "name": "stderr",
     "output_type": "stream",
     "text": [
      "[ WARN:0] global ./modules/videoio/src/cap_gstreamer.cpp (873) open OpenCV | GStreamer warning: Error opening bin: no source element for URI \"/dev/video0\"\n",
      "[ WARN:0] global ./modules/videoio/src/cap_gstreamer.cpp (616) isPipelinePlaying OpenCV | GStreamer warning: GStreamer: pipeline have not been created\n"
     ]
    },
    {
     "name": "stdout",
     "output_type": "stream",
     "text": [
      "카메라 열기 실패\n"
     ]
    }
   ],
   "source": [
    "import cv2\n",
    "\n",
    "cap = cv2.VideoCapture('/dev/video0')  # 혹은 cv2.VideoCapture(0)\n",
    "\n",
    "if not cap.isOpened():\n",
    "    print(\"카메라 열기 실패\")\n",
    "else:\n",
    "    print(\"카메라 열림 성공\")\n"
   ]
  },
  {
   "cell_type": "code",
   "execution_count": null,
   "id": "bb0edc40-467b-4b15-9986-ff0752858aa3",
   "metadata": {},
   "outputs": [],
   "source": []
  }
 ],
 "metadata": {
  "kernelspec": {
   "display_name": "Python 3 (ipykernel)",
   "language": "python",
   "name": "python3"
  },
  "language_info": {
   "codemirror_mode": {
    "name": "ipython",
    "version": 3
   },
   "file_extension": ".py",
   "mimetype": "text/x-python",
   "name": "python",
   "nbconvert_exporter": "python",
   "pygments_lexer": "ipython3",
   "version": "3.10.4"
  }
 },
 "nbformat": 4,
 "nbformat_minor": 5
}
