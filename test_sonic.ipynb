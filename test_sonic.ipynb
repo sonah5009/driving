{
 "cells": [
  {
   "cell_type": "code",
   "execution_count": null,
   "id": "9ff35350-8ea5-4842-8ac3-585ad38f4896",
   "metadata": {},
   "outputs": [],
   "source": []
  },
  {
   "cell_type": "markdown",
   "id": "5f525646",
   "metadata": {},
   "source": [
    "### Ultrasonic sensor test example ###"
   ]
  },
  {
   "cell_type": "code",
   "execution_count": 3,
   "id": "e890225b",
   "metadata": {},
   "outputs": [
    {
     "ename": "IndentationError",
     "evalue": "expected an indented block after 'if' statement on line 137 (motor_controller.py, line 138)",
     "output_type": "error",
     "traceback": [
      "Traceback \u001b[0;36m(most recent call last)\u001b[0m:\n",
      "  File \u001b[1;32m/usr/local/share/pynq-venv/lib/python3.10/site-packages/IPython/core/interactiveshell.py:3398\u001b[0m in \u001b[1;35mrun_code\u001b[0m\n    exec(code_obj, self.user_global_ns, self.user_ns)\n",
      "  Input \u001b[1;32mIn [3]\u001b[0m in \u001b[1;35m<cell line: 10>\u001b[0m\n    from driving_system_controller import DrivingSystemController\n",
      "\u001b[0;36m  File \u001b[0;32m/home/xilinx/jupyter_notebooks/driving/driving_system_controller.py:13\u001b[0;36m in \u001b[0;35m<module>\u001b[0;36m\u001b[0m\n\u001b[0;31m    from motor_controller import MotorController\u001b[0m\n",
      "\u001b[0;36m  File \u001b[0;32m/home/xilinx/jupyter_notebooks/driving/motor_controller.py:138\u001b[0;36m\u001b[0m\n\u001b[0;31m    else:\u001b[0m\n\u001b[0m    ^\u001b[0m\n\u001b[0;31mIndentationError\u001b[0m\u001b[0;31m:\u001b[0m expected an indented block after 'if' statement on line 137\n"
     ]
    }
   ],
   "source": [
    "from pynq import Overlay, MMIO, PL, allocate\n",
    "from pynq.lib.video import *\n",
    "from pynq_dpu import DpuOverlay\n",
    "import cv2\n",
    "import numpy as np\n",
    "import time\n",
    "import os\n",
    "import spidev\n",
    "import keyboard\n",
    "from driving_system_controller import DrivingSystemController\n",
    "from image_processor import ImageProcessor\n",
    "from config import MOTOR_ADDRESSES, ADDRESS_RANGE,classes_path, anchors\n",
    "from AutoLab_lib import init\n",
    "\n",
    "init()\n",
    "# Initialize SPI\n",
    "spi0 = spidev.SpiDev()\n",
    "spi0.open(0, 0)\n",
    "spi0.max_speed_hz = 20000000\n",
    "spi0.mode = 0b00\n",
    "\n",
    "# 자율주행 모드 뒷바퀴 & 조향 속도 설정 (0 ~ 100)\n",
    "speed = 50\n",
    "steering_speed = 50\n",
    "motors = {}\n",
    "\n",
    "for name, addr in MOTOR_ADDRESSES.items():\n",
    "    motors[name] = MMIO(addr, ADDRESS_RANGE)\n",
    "\n",
    "\n",
    "def load_dpu():\n",
    "    global dpu, input_data, output_data, shapeIn, shapeOut0, shapeOut1\n",
    "    \n",
    "    overlay = DpuOverlay(\"../dpu/dpu.bit\")\n",
    "    overlay.load_model(\"../xmodel/tiny-yolov3_coco_256.xmodel\")\n",
    "    \n",
    "    dpu = overlay.runner\n",
    "    print(\"[DEBUG] DPU runner:\", dpu)  # None이 아니어야 정상\n",
    "    \n",
    "    return overlay, dpu\n",
    "\n",
    "def main():\n",
    "    overlay = load_dpu()\n",
    "    controller = DrivingSystemController(overlay, dpu, motors, speed, steering_speed)\n",
    "    controller.run(camera_index=0)\n",
    "\n",
    "# if __name__ == \"__main__\":\n",
    "#     main()"
   ]
  },
  {
   "cell_type": "code",
   "execution_count": null,
   "id": "8ed55649-d85e-4f1b-9ced-7434ac478a19",
   "metadata": {},
   "outputs": [],
   "source": [
    "overlay = load_dpu()"
   ]
  },
  {
   "cell_type": "code",
   "execution_count": null,
   "id": "19935bcd-c712-4c34-ab78-32142bf29cad",
   "metadata": {},
   "outputs": [],
   "source": [
    "# motor_controller 없이 DrivingSystemController 생성해보기\n",
    "# (임시 dummy motors dict 사용)\n",
    "controller = DrivingSystemController(overlay, dpu, {}, speed, steering_speed)\n",
    "print(\"DrivingSystemController 생성 OK\")"
   ]
  },
  {
   "cell_type": "code",
   "execution_count": null,
   "id": "7e0a8ebf-3927-42cb-94a7-273080b1b3e5",
   "metadata": {},
   "outputs": [],
   "source": [
    "from pynq import MMIO\n",
    "from config import MOTOR_ADDRESSES, ADDRESS_RANGE\n",
    "\n",
    "motors = {}\n",
    "\n",
    "for name, addr in MOTOR_ADDRESSES.items():\n",
    "    try:\n",
    "        print(f\"[MMIO 초기화 시도] {name} → addr = {hex(addr)}\")\n",
    "        motors[name] = MMIO(addr, ADDRESS_RANGE)\n",
    "        print(f\"  ✅ 성공적으로 접근: {name}\")\n",
    "    except Exception as e:\n",
    "        print(f\"  ❌ MMIO 접근 실패: {name}, 에러: {e}\")\n"
   ]
  },
  {
   "cell_type": "code",
   "execution_count": null,
   "id": "59b22ff3-3925-4c64-ae61-511dfe3e6315",
   "metadata": {},
   "outputs": [],
   "source": [
    "from pynq import MMIO\n",
    "from config import MOTOR_ADDRESSES, ADDRESS_RANGE\n",
    "\n",
    "print(\"MMIO 접근 테스트 시작\")\n",
    "\n",
    "for name, addr in MOTOR_ADDRESSES.items():\n",
    "    print(f\"\\n[{name}] 주소: {hex(addr)}\")\n",
    "    try:\n",
    "        m = MMIO(addr, ADDRESS_RANGE)\n",
    "        print(\"  ✅ MMIO 인스턴스 생성 성공\")\n",
    "\n",
    "        print(\"  [WRITE] 0x00 ← 600600\")\n",
    "        m.write(0x00, 600600)\n",
    "\n",
    "        print(\"  [WRITE] 0x04 ← 300300\")\n",
    "        m.write(0x04, 300300)\n",
    "\n",
    "        print(\"  [WRITE] 0x08 ← 0\")\n",
    "        m.write(0x08, 0)\n",
    "\n",
    "        print(\"  ✅ Register write 성공\")\n",
    "    except Exception as e:\n",
    "        print(f\"  ❌ 에러 발생: {e}\")\n"
   ]
  },
  {
   "cell_type": "code",
   "execution_count": null,
   "id": "d590c557-d89b-4ab9-b6fd-561fa7004eee",
   "metadata": {},
   "outputs": [],
   "source": [
    "for name, addr in MOTOR_ADDRESSES.items():\n",
    "    print(f\"테스트 중: {name} - {hex(addr)}\")\n",
    "    m = MMIO(addr, ADDRESS_RANGE)\n",
    "\n",
    "    if name == 'motor_0': continue  # 하나씩 활성화하며 테스트\n",
    "    if name == 'motor_1': continue\n",
    "\n",
    "    print(\"  write(0x00, ...)\")\n",
    "    m.write(0x00, 600600)  # 여기서 죽으면 해당 motor가 문제\n",
    "\n",
    "    print(\"  write(0x04, ...)\")\n",
    "    m.write(0x04, 300300)\n",
    "\n",
    "    print(\"  write(0x08, ...)\")\n",
    "    m.write(0x08, 0)\n"
   ]
  },
  {
   "cell_type": "code",
   "execution_count": null,
   "id": "27f05712-544e-4a77-98d4-3085ff8dd8a1",
   "metadata": {},
   "outputs": [],
   "source": [
    "\n",
    "print(\"[2] DrivingSystemController 생성 시작\")\n",
    "controller = DrivingSystemController(overlay, dpu, motors, speed, steering_speed)\n",
    "print(\"[3] DrivingSystemController 생성 완료\")\n"
   ]
  },
  {
   "cell_type": "code",
   "execution_count": null,
   "id": "479a08e5-5068-4a0a-833a-f5b9adcd767f",
   "metadata": {},
   "outputs": [],
   "source": [
    "\n",
    "print(\"[4] run() 함수 진입 전\")\n",
    "controller.run()"
   ]
  }
 ],
 "metadata": {
  "kernelspec": {
   "display_name": "Python 3 (ipykernel)",
   "language": "python",
   "name": "python3"
  },
  "language_info": {
   "codemirror_mode": {
    "name": "ipython",
    "version": 3
   },
   "file_extension": ".py",
   "mimetype": "text/x-python",
   "name": "python",
   "nbconvert_exporter": "python",
   "pygments_lexer": "ipython3",
   "version": "3.10.4"
  }
 },
 "nbformat": 4,
 "nbformat_minor": 5
}
